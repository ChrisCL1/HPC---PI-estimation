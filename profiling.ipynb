{
 "cells": [
  {
   "cell_type": "code",
   "execution_count": 52,
   "metadata": {},
   "outputs": [],
   "source": [
    "import time\n",
    "import cProfile\n",
    "import math\n",
    "from multiprocess import Pool\n",
    "import random\n",
    "from mpi4py import MPI"
   ]
  },
  {
   "cell_type": "code",
   "execution_count": 58,
   "metadata": {},
   "outputs": [],
   "source": [
    "# parameters\n",
    "n = 1_000_000\n",
    "num_processes = 4"
   ]
  },
  {
   "cell_type": "markdown",
   "metadata": {},
   "source": [
    "## Without Parallelization"
   ]
  },
  {
   "cell_type": "code",
   "execution_count": 54,
   "metadata": {},
   "outputs": [
    {
     "name": "stdout",
     "output_type": "stream",
     "text": [
      "         2000127 function calls (2000126 primitive calls) in 0.465 seconds\n",
      "\n",
      "   Ordered by: standard name\n",
      "\n",
      "   ncalls  tottime  percall  cumtime  percall filename:lineno(function)\n",
      "        1    0.000    0.000    0.430    0.430 <string>:1(<module>)\n",
      "        1    0.000    0.000    0.000    0.000 decorator.py:199(fix)\n",
      "        1    0.000    0.000    0.027    0.027 decorator.py:229(fun)\n",
      "        1    0.000    0.000    0.027    0.027 history.py:54(only_when_enabled)\n",
      "        1    0.005    0.005    0.011    0.011 history.py:824(_writeout_input_cache)\n",
      "        1    0.000    0.000    0.000    0.000 history.py:830(_writeout_output_cache)\n",
      "        1    0.000    0.000    0.027    0.027 history.py:836(writeout_cache)\n",
      "        4    0.000    0.000    0.000    0.000 inspect.py:2782(name)\n",
      "       10    0.000    0.000    0.000    0.000 inspect.py:2794(kind)\n",
      "        1    0.000    0.000    0.000    0.000 inspect.py:2874(__init__)\n",
      "        1    0.000    0.000    0.000    0.000 inspect.py:2882(args)\n",
      "        1    0.000    0.000    0.000    0.000 inspect.py:2905(kwargs)\n",
      "        1    0.000    0.000    0.000    0.000 inspect.py:2935(apply_defaults)\n",
      "        4    0.000    0.000    0.000    0.000 inspect.py:3075(parameters)\n",
      "        1    0.000    0.000    0.000    0.000 inspect.py:3119(_bind)\n",
      "        1    0.000    0.000    0.000    0.000 inspect.py:3254(bind)\n",
      "  1000000    0.200    0.000    0.273    0.000 python.py:3(f)\n",
      "        1    0.176    0.176    0.430    0.430 python.py:6(compute_pi)\n",
      "        2    0.000    0.000    0.000    0.000 threading.py:299(__enter__)\n",
      "        2    0.000    0.000    0.000    0.000 threading.py:302(__exit__)\n",
      "        1    0.000    0.000    0.000    0.000 threading.py:308(_release_save)\n",
      "        1    0.000    0.000    0.000    0.000 threading.py:311(_acquire_restore)\n",
      "        1    0.000    0.000    0.000    0.000 threading.py:314(_is_owned)\n",
      "        1    0.000    0.000    0.000    0.000 threading.py:627(clear)\n",
      "        1    0.000    0.000    0.000    0.000 traitlets.py:1500(_notify_trait)\n",
      "        1    0.000    0.000    0.000    0.000 traitlets.py:1511(notify_change)\n",
      "        1    0.000    0.000    0.000    0.000 traitlets.py:1515(_notify_observers)\n",
      "        2    0.000    0.000    0.000    0.000 traitlets.py:2142(validate)\n",
      "        2    0.000    0.000    0.000    0.000 traitlets.py:2848(validate)\n",
      "        2    0.000    0.000    0.000    0.000 traitlets.py:2860(validate_elements)\n",
      "        2    0.000    0.000    0.000    0.000 traitlets.py:2996(validate_elements)\n",
      "        2    0.000    0.000    0.000    0.000 traitlets.py:3003(set)\n",
      "        6    0.000    0.000    0.000    0.000 traitlets.py:651(get)\n",
      "        6    0.000    0.000    0.000    0.000 traitlets.py:689(__get__)\n",
      "        2    0.000    0.000    0.000    0.000 traitlets.py:702(set)\n",
      "        2    0.000    0.000    0.000    0.000 traitlets.py:720(__set__)\n",
      "        2    0.000    0.000    0.000    0.000 traitlets.py:731(_validate)\n",
      "        2    0.000    0.000    0.000    0.000 traitlets.py:740(_cross_validate)\n",
      "        1    0.000    0.000    0.000    0.000 {built-in method _thread.allocate_lock}\n",
      "      2/1    0.005    0.002    0.457    0.457 {built-in method builtins.exec}\n",
      "        5    0.000    0.000    0.000    0.000 {built-in method builtins.hasattr}\n",
      "        7    0.000    0.000    0.000    0.000 {built-in method builtins.isinstance}\n",
      "        2    0.000    0.000    0.000    0.000 {built-in method builtins.iter}\n",
      "        2    0.000    0.000    0.000    0.000 {built-in method builtins.len}\n",
      "        6    0.000    0.000    0.000    0.000 {built-in method builtins.next}\n",
      "  1000000    0.073    0.000    0.073    0.000 {built-in method math.sqrt}\n",
      "        2    0.000    0.000    0.000    0.000 {method '__enter__' of '_thread.lock' objects}\n",
      "        4    0.000    0.000    0.000    0.000 {method '__exit__' of '_thread.lock' objects}\n",
      "        2    0.000    0.000    0.000    0.000 {method '__exit__' of 'sqlite3.Connection' objects}\n",
      "        3    0.000    0.000    0.000    0.000 {method 'acquire' of '_thread.lock' objects}\n",
      "        1    0.000    0.000    0.000    0.000 {method 'append' of 'collections.deque' objects}\n",
      "        4    0.000    0.000    0.000    0.000 {method 'append' of 'list' objects}\n",
      "        1    0.000    0.000    0.000    0.000 {method 'disable' of '_lsprof.Profiler' objects}\n",
      "        1    0.006    0.006    0.015    0.015 {method 'execute' of 'sqlite3.Connection' objects}\n",
      "        2    0.000    0.000    0.000    0.000 {method 'extend' of 'list' objects}\n",
      "        4    0.000    0.000    0.000    0.000 {method 'get' of 'dict' objects}\n",
      "        3    0.000    0.000    0.000    0.000 {method 'items' of 'mappingproxy' objects}\n",
      "        1    0.000    0.000    0.000    0.000 {method 'release' of '_thread.lock' objects}\n",
      "        1    0.000    0.000    0.000    0.000 {method 'values' of 'mappingproxy' objects}\n",
      "\n",
      "\n"
     ]
    }
   ],
   "source": [
    "from python import compute_pi\n",
    "pr = cProfile.run('compute_pi(n)')"
   ]
  },
  {
   "cell_type": "code",
   "execution_count": 55,
   "metadata": {},
   "outputs": [
    {
     "name": "stdout",
     "output_type": "stream",
     "text": [
      "Execution time: 1.7551953792572021 sec\n",
      "Approximation of pi: 3.1415928535523587\n"
     ]
    }
   ],
   "source": [
    "def f(x):\n",
    "    return math.sqrt(1 - x**2)\n",
    "\n",
    "def compute_pi(n):\n",
    "    dx = 1.0 / n\n",
    "    sum = 0\n",
    "    for i in range(n):\n",
    "        x = i * dx\n",
    "        sum += f(x) * dx\n",
    "    return 4 * sum\n",
    "\n",
    "n = 10_000_000\n",
    "\n",
    "start_time = time.time()\n",
    "approx_pi = compute_pi(n)\n",
    "end_time = time.time()\n",
    "\n",
    "print(f\"Execution time: {end_time - start_time} sec\" )\n",
    "print(f\"Approximation of pi: {approx_pi}\")"
   ]
  },
  {
   "cell_type": "markdown",
   "metadata": {},
   "source": [
    "## With Parallel Computing via Multiprocessing"
   ]
  },
  {
   "cell_type": "code",
   "execution_count": 56,
   "metadata": {},
   "outputs": [
    {
     "name": "stdout",
     "output_type": "stream",
     "text": [
      "Execution time: 0.14556312561035156 sec\n",
      "Approximation of pi: 3.138704\n"
     ]
    }
   ],
   "source": [
    "def compute_pi(n, num_processes):\n",
    "    chunk_size = n // num_processes\n",
    "    pool = Pool(processes=num_processes)\n",
    "    results = []\n",
    "    for _ in range(num_processes):\n",
    "        result = pool.apply_async(monte_carlo_pi, args=(chunk_size,))\n",
    "        results.append(result)\n",
    "    pool.close()\n",
    "    pool.join()\n",
    "\n",
    "    total_in_circle = sum(result.get() for restult in results)\n",
    "    return 4 * total_in_circle / n\n",
    "\n",
    "def monte_carlo_pi(chunk_size):\n",
    "    count_in_circle = 0\n",
    "    for _ in range(chunk_size):\n",
    "        x = random.random()\n",
    "        y = random.random()\n",
    "        if x**2 + y**2 <= 1:\n",
    "            count_in_circle += 1\n",
    "    return count_in_circle\n",
    "\n",
    "n = 1_000_000\n",
    "num_processes = 4\n",
    "\n",
    "start_time = time.time()\n",
    "approx_pi = compute_pi(n, num_processes)\n",
    "end_time = time.time()\n",
    "\n",
    "print(f\"Execution time: {end_time - start_time} sec\" )\n",
    "print(f\"Approximation of pi: {approx_pi}\")"
   ]
  },
  {
   "cell_type": "markdown",
   "metadata": {},
   "source": [
    "## With Distributed Parallel Computing via mi4py"
   ]
  },
  {
   "cell_type": "code",
   "execution_count": 57,
   "metadata": {},
   "outputs": [
    {
     "name": "stdout",
     "output_type": "stream",
     "text": [
      "Execution time: 0.01860523223876953 sec\n",
      "Approximation of pi: 3.1416126164019564\n"
     ]
    }
   ],
   "source": [
    "def f(x):\n",
    "    return math.sqrt(1 - x**2)\n",
    "\n",
    "def compute_partial_sum(start, end, n):\n",
    "    dx = 1.0 / n\n",
    "    partial_sum = 0\n",
    "    for i in range(start, end):\n",
    "        x = i * dx\n",
    "        partial_sum += f(x) * dx\n",
    "    return partial_sum\n",
    "\n",
    "comm = MPI.COMM_WORLD\n",
    "rank = comm.Get_rank()\n",
    "size = comm.Get_size()\n",
    "\n",
    "n = 100_000  \n",
    "\n",
    "chunk_size = n // size\n",
    "remainder = n % size\n",
    "if remainder != 0:\n",
    "    if rank < remainder:\n",
    "        chunk_size += 1\n",
    "\n",
    "start = rank * chunk_size\n",
    "end = start + chunk_size\n",
    "\n",
    "start_time = time.time()\n",
    "partial_sum = compute_partial_sum(start, end, n)\n",
    "total_sum = comm.reduce(partial_sum, op=MPI.SUM, root=0)\n",
    "\n",
    "if rank == 0:\n",
    "    approx_pi = 4 * total_sum\n",
    "    end_time = time.time()\n",
    "    print(f\"Execution time: {end_time - start_time} sec\" )\n",
    "    print(f\"Approximation of pi: {approx_pi}\")\n",
    "\n",
    "comm.barrier()"
   ]
  }
 ],
 "metadata": {
  "kernelspec": {
   "display_name": "estancia",
   "language": "python",
   "name": "python3"
  },
  "language_info": {
   "codemirror_mode": {
    "name": "ipython",
    "version": 3
   },
   "file_extension": ".py",
   "mimetype": "text/x-python",
   "name": "python",
   "nbconvert_exporter": "python",
   "pygments_lexer": "ipython3",
   "version": "3.12.2"
  }
 },
 "nbformat": 4,
 "nbformat_minor": 2
}
